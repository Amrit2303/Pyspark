{
 "cells": [
  {
   "cell_type": "code",
   "execution_count": 1,
   "metadata": {},
   "outputs": [],
   "source": [
    "import pyspark"
   ]
  },
  {
   "cell_type": "code",
   "execution_count": 2,
   "metadata": {},
   "outputs": [],
   "source": [
    "from pyspark.sql import SparkSession"
   ]
  },
  {
   "cell_type": "code",
   "execution_count": 3,
   "metadata": {},
   "outputs": [],
   "source": [
    "spark=SparkSession.builder.appName('PySp_3').getOrCreate()"
   ]
  },
  {
   "cell_type": "code",
   "execution_count": 4,
   "metadata": {},
   "outputs": [
    {
     "data": {
      "text/html": [
       "\n",
       "            <div>\n",
       "                <p><b>SparkSession - in-memory</b></p>\n",
       "                \n",
       "        <div>\n",
       "            <p><b>SparkContext</b></p>\n",
       "\n",
       "            <p><a href=\"http://JAANEMAN:4042\">Spark UI</a></p>\n",
       "\n",
       "            <dl>\n",
       "              <dt>Version</dt>\n",
       "                <dd><code>v3.3.0</code></dd>\n",
       "              <dt>Master</dt>\n",
       "                <dd><code>local[*]</code></dd>\n",
       "              <dt>AppName</dt>\n",
       "                <dd><code>PySp_3</code></dd>\n",
       "            </dl>\n",
       "        </div>\n",
       "        \n",
       "            </div>\n",
       "        "
      ],
      "text/plain": [
       "<pyspark.sql.session.SparkSession at 0x23f620e7280>"
      ]
     },
     "execution_count": 4,
     "metadata": {},
     "output_type": "execute_result"
    }
   ],
   "source": [
    "spark"
   ]
  },
  {
   "cell_type": "code",
   "execution_count": 7,
   "metadata": {},
   "outputs": [],
   "source": [
    "df_pysp=spark.read.option('header','true').csv(r\"C:\\Users\\91798\\Desktop\\Pyspark\\Salary.csv\",header=True,inferSchema=True)"
   ]
  },
  {
   "cell_type": "code",
   "execution_count": 9,
   "metadata": {},
   "outputs": [
    {
     "name": "stdout",
     "output_type": "stream",
     "text": [
      "+--------+----+----------+------+\n",
      "|    Name| Age|Experience|Salary|\n",
      "+--------+----+----------+------+\n",
      "|   Amrit|  21|         2|150000|\n",
      "|   Sejal|  22|         4| 95000|\n",
      "|   Arpit|  21|         3|120000|\n",
      "|Parinaaz|  22|         5|  null|\n",
      "| Kritika|  21|      null|  null|\n",
      "|  Bhavya|null|         7|110000|\n",
      "|    null|null|      null|  null|\n",
      "|    null|  22|         8|125000|\n",
      "+--------+----+----------+------+\n",
      "\n"
     ]
    }
   ],
   "source": [
    "df_pysp.show()"
   ]
  },
  {
   "cell_type": "code",
   "execution_count": 10,
   "metadata": {},
   "outputs": [
    {
     "name": "stdout",
     "output_type": "stream",
     "text": [
      "+----+----------+------+\n",
      "| Age|Experience|Salary|\n",
      "+----+----------+------+\n",
      "|  21|         2|150000|\n",
      "|  22|         4| 95000|\n",
      "|  21|         3|120000|\n",
      "|  22|         5|  null|\n",
      "|  21|      null|  null|\n",
      "|null|         7|110000|\n",
      "|null|      null|  null|\n",
      "|  22|         8|125000|\n",
      "+----+----------+------+\n",
      "\n"
     ]
    }
   ],
   "source": [
    "df_pysp.drop('Name').show()"
   ]
  },
  {
   "cell_type": "code",
   "execution_count": 12,
   "metadata": {},
   "outputs": [
    {
     "name": "stdout",
     "output_type": "stream",
     "text": [
      "root\n",
      " |-- Name: string (nullable = true)\n",
      " |-- Age: integer (nullable = true)\n",
      " |-- Experience: integer (nullable = true)\n",
      " |-- Salary: integer (nullable = true)\n",
      "\n"
     ]
    }
   ],
   "source": [
    "df_pysp.printSchema()"
   ]
  },
  {
   "cell_type": "code",
   "execution_count": 13,
   "metadata": {},
   "outputs": [
    {
     "name": "stdout",
     "output_type": "stream",
     "text": [
      "+-----+---+----------+------+\n",
      "| Name|Age|Experience|Salary|\n",
      "+-----+---+----------+------+\n",
      "|Amrit| 21|         2|150000|\n",
      "|Sejal| 22|         4| 95000|\n",
      "|Arpit| 21|         3|120000|\n",
      "+-----+---+----------+------+\n",
      "\n"
     ]
    }
   ],
   "source": [
    "df_pysp.na.drop().show()"
   ]
  },
  {
   "cell_type": "code",
   "execution_count": 15,
   "metadata": {},
   "outputs": [
    {
     "name": "stdout",
     "output_type": "stream",
     "text": [
      "+-----+---+----------+------+\n",
      "| Name|Age|Experience|Salary|\n",
      "+-----+---+----------+------+\n",
      "|Amrit| 21|         2|150000|\n",
      "|Sejal| 22|         4| 95000|\n",
      "|Arpit| 21|         3|120000|\n",
      "+-----+---+----------+------+\n",
      "\n"
     ]
    }
   ],
   "source": [
    "df_pysp.na.drop(how=\"any\").show()"
   ]
  },
  {
   "cell_type": "code",
   "execution_count": 17,
   "metadata": {},
   "outputs": [
    {
     "name": "stdout",
     "output_type": "stream",
     "text": [
      "+--------+----+----------+------+\n",
      "|    Name| Age|Experience|Salary|\n",
      "+--------+----+----------+------+\n",
      "|   Amrit|  21|         2|150000|\n",
      "|   Sejal|  22|         4| 95000|\n",
      "|   Arpit|  21|         3|120000|\n",
      "|Parinaaz|  22|         5|  null|\n",
      "|  Bhavya|null|         7|110000|\n",
      "|    null|  22|         8|125000|\n",
      "+--------+----+----------+------+\n",
      "\n"
     ]
    }
   ],
   "source": [
    "df_pysp.na.drop(how=\"any\",thresh=3).show()"
   ]
  },
  {
   "cell_type": "code",
   "execution_count": 18,
   "metadata": {},
   "outputs": [
    {
     "name": "stdout",
     "output_type": "stream",
     "text": [
      "+--------+---+----------+------+\n",
      "|    Name|Age|Experience|Salary|\n",
      "+--------+---+----------+------+\n",
      "|   Amrit| 21|         2|150000|\n",
      "|   Sejal| 22|         4| 95000|\n",
      "|   Arpit| 21|         3|120000|\n",
      "|Parinaaz| 22|         5|  null|\n",
      "| Kritika| 21|      null|  null|\n",
      "|    null| 22|         8|125000|\n",
      "+--------+---+----------+------+\n",
      "\n"
     ]
    }
   ],
   "source": [
    "##Subset\n",
    "df_pysp.na.drop(how=\"any\",subset=['Age']).show()"
   ]
  },
  {
   "cell_type": "code",
   "execution_count": 21,
   "metadata": {},
   "outputs": [
    {
     "name": "stdout",
     "output_type": "stream",
     "text": [
      "+--------+----+----------+------+\n",
      "|    Name| Age|Experience|Salary|\n",
      "+--------+----+----------+------+\n",
      "|   Amrit|  21|         2|150000|\n",
      "|   Sejal|  22|         4| 95000|\n",
      "|   Arpit|  21|         3|120000|\n",
      "|Parinaaz|  22|         5|  null|\n",
      "| Kritika|  21|      null|  null|\n",
      "|  Bhavya|null|         7|110000|\n",
      "|    null|null|      null|  null|\n",
      "|    null|  22|         8|125000|\n",
      "+--------+----+----------+------+\n",
      "\n"
     ]
    }
   ],
   "source": [
    "### Filling the Missing Value\n",
    "df_pysp.na.fill('Missing Values',['Experience','Age']).show()"
   ]
  },
  {
   "cell_type": "code",
   "execution_count": 22,
   "metadata": {},
   "outputs": [
    {
     "name": "stdout",
     "output_type": "stream",
     "text": [
      "+--------------+----+----------+------+\n",
      "|          Name| Age|Experience|Salary|\n",
      "+--------------+----+----------+------+\n",
      "|         Amrit|  21|         2|150000|\n",
      "|         Sejal|  22|         4| 95000|\n",
      "|         Arpit|  21|         3|120000|\n",
      "|      Parinaaz|  22|         5|  null|\n",
      "|       Kritika|  21|      null|  null|\n",
      "|        Bhavya|null|         7|110000|\n",
      "|Missing Values|null|      null|  null|\n",
      "|Missing Values|  22|         8|125000|\n",
      "+--------------+----+----------+------+\n",
      "\n"
     ]
    }
   ],
   "source": [
    "df_pysp.na.fill('Missing Values').show()"
   ]
  },
  {
   "cell_type": "code",
   "execution_count": 27,
   "metadata": {},
   "outputs": [],
   "source": [
    "from pyspark.ml.feature import Imputer\n",
    "\n",
    "imputer = Imputer(\n",
    "    inputCols=['Age'], \n",
    "    outputCols=[\"{}_imputed\".format(c) for c in ['Age']]\n",
    "    ).setStrategy(\"median\")"
   ]
  },
  {
   "cell_type": "code",
   "execution_count": 28,
   "metadata": {},
   "outputs": [
    {
     "name": "stdout",
     "output_type": "stream",
     "text": [
      "+--------+----+----------+------+-----------+\n",
      "|    Name| Age|Experience|Salary|Age_imputed|\n",
      "+--------+----+----------+------+-----------+\n",
      "|   Amrit|  21|         2|150000|         21|\n",
      "|   Sejal|  22|         4| 95000|         22|\n",
      "|   Arpit|  21|         3|120000|         21|\n",
      "|Parinaaz|  22|         5|  null|         22|\n",
      "| Kritika|  21|      null|  null|         21|\n",
      "|  Bhavya|null|         7|110000|         21|\n",
      "|    null|null|      null|  null|         21|\n",
      "|    null|  22|         8|125000|         22|\n",
      "+--------+----+----------+------+-----------+\n",
      "\n"
     ]
    }
   ],
   "source": [
    "imputer.fit(df_pysp).transform(df_pysp).show()"
   ]
  },
  {
   "cell_type": "code",
   "execution_count": null,
   "metadata": {},
   "outputs": [],
   "source": []
  }
 ],
 "metadata": {
  "kernelspec": {
   "display_name": "Python 3",
   "language": "python",
   "name": "python3"
  },
  "language_info": {
   "codemirror_mode": {
    "name": "ipython",
    "version": 3
   },
   "file_extension": ".py",
   "mimetype": "text/x-python",
   "name": "python",
   "nbconvert_exporter": "python",
   "pygments_lexer": "ipython3",
   "version": "3.8.5"
  }
 },
 "nbformat": 4,
 "nbformat_minor": 4
}
